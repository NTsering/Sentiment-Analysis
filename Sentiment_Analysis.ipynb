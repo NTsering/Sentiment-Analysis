{
  "nbformat": 4,
  "nbformat_minor": 0,
  "metadata": {
    "colab": {
      "name": "Sentiment-Analysis.ipynb",
      "provenance": [],
      "collapsed_sections": [],
      "toc_visible": true,
      "include_colab_link": true
    },
    "kernelspec": {
      "name": "python3",
      "display_name": "Python 3"
    },
    "accelerator": "GPU"
  },
  "cells": [
    {
      "cell_type": "markdown",
      "metadata": {
        "id": "view-in-github",
        "colab_type": "text"
      },
      "source": [
        "<a href=\"https://colab.research.google.com/github/NTsering/Sentiment-Analysis/blob/master/Sentiment_Analysis.ipynb\" target=\"_parent\"><img src=\"https://colab.research.google.com/assets/colab-badge.svg\" alt=\"Open In Colab\"/></a>"
      ]
    },
    {
      "cell_type": "code",
      "metadata": {
        "id": "Mqe07JNd6qAy",
        "colab_type": "code",
        "colab": {}
      },
      "source": [
        "import pandas as pd\n",
        "import matplotlib.pyplot as plt\n",
        "import numpy as np\n",
        "from keras.utils import to_categorical\n",
        "from keras import optimizers"
      ],
      "execution_count": 0,
      "outputs": []
    },
    {
      "cell_type": "code",
      "metadata": {
        "id": "tNX7-6ph6zbQ",
        "colab_type": "code",
        "colab": {}
      },
      "source": [
        "# from google.colab import drive\n",
        "# # Path to dataset: https://raw.githubusercontent.com/cacoderquan/Sentiment-Analysis-on-the-Rotten-Tomatoes-movie-review-dataset/master/train.tsv \n",
        "# drive.mount('/content/drive')"
      ],
      "execution_count": 0,
      "outputs": []
    },
    {
      "cell_type": "code",
      "metadata": {
        "id": "ru7ePlLps85r",
        "colab_type": "code",
        "outputId": "689208e0-c981-468a-f197-28884dababe1",
        "colab": {
          "base_uri": "https://localhost:8080/",
          "height": 119
        }
      },
      "source": [
        "import nltk\n",
        "nltk.download('punkt')\n",
        "nltk.download('stopwords')\n",
        "nltk.download('wordnet')\n",
        "# import random\n",
        "from nltk.corpus import movie_reviews\n",
        "from nltk.corpus import stopwords\n",
        "from nltk.tokenize import word_tokenize\n",
        "from nltk.stem import WordNetLemmatizer, PorterStemmer, LancasterStemmer\n",
        "from sklearn.model_selection import train_test_split\n",
        "from sklearn.feature_extraction.text import TfidfVectorizer\n",
        "from sklearn.feature_extraction.text import CountVectorizer\n",
        "from keras.models import Sequential\n",
        "from keras.layers.normalization import BatchNormalization\n",
        "from keras.layers import Dense, Conv1D, Dropout, Flatten, MaxPooling1D, AveragePooling1D, Activation"
      ],
      "execution_count": 4,
      "outputs": [
        {
          "output_type": "stream",
          "text": [
            "[nltk_data] Downloading package punkt to /root/nltk_data...\n",
            "[nltk_data]   Unzipping tokenizers/punkt.zip.\n",
            "[nltk_data] Downloading package stopwords to /root/nltk_data...\n",
            "[nltk_data]   Unzipping corpora/stopwords.zip.\n",
            "[nltk_data] Downloading package wordnet to /root/nltk_data...\n",
            "[nltk_data]   Unzipping corpora/wordnet.zip.\n"
          ],
          "name": "stdout"
        }
      ]
    },
    {
      "cell_type": "code",
      "metadata": {
        "id": "9K0U8PnkQMgF",
        "colab_type": "code",
        "colab": {}
      },
      "source": [
        "def load_dataset(path):\n",
        "  dataset = pd.read_csv(path,sep = '\\t', header = 0)\n",
        "  dataset = dataset.loc[:, 'Phrase':'Sentiment']\n",
        "  return dataset"
      ],
      "execution_count": 0,
      "outputs": []
    },
    {
      "cell_type": "code",
      "metadata": {
        "id": "40SqRReCQosl",
        "colab_type": "code",
        "colab": {}
      },
      "source": [
        "def visualize_dataset(dataset):\n",
        "  dataset.hist(bins=20, figsize=(20,5), layout=(1,3))\n",
        "  plt.show()"
      ],
      "execution_count": 0,
      "outputs": []
    },
    {
      "cell_type": "code",
      "metadata": {
        "id": "GDYfT4abMHoH",
        "colab_type": "code",
        "colab": {}
      },
      "source": [
        "def preprocess_dataset(documents):\n",
        "  porter = PorterStemmer()\n",
        "  lancaster = LancasterStemmer()\n",
        "\n",
        "  wordnet_lemmatizer = WordNetLemmatizer()\n",
        "  stop_words = set(stopwords.words('english'))\n",
        "  punctuations = '-\\'?:!.,;\\\"()'\n",
        "\n",
        "  remove_stopwords = True\n",
        "  useStemming = False\n",
        "  useLemma = True\n",
        "  removePuncs = True\n",
        "\n",
        "  for l in range(len(documents)):\n",
        "    label = documents[l][1]\n",
        "    tempReview = []\n",
        "    for w in documents[l][0].split(' '):\n",
        "      newWord = w\n",
        "      if remove_stopwords and (w in stop_words):\n",
        "        continue\n",
        "      if removePuncs and (w in punctuations):\n",
        "        continue\n",
        "      if useStemming:\n",
        "        newWord = porter.stem(newWord)\n",
        "      if useLemma:\n",
        "        newWord = wordnet_lemmatizer.lemmatize(newWord)\n",
        "      tempReview.append(newWord)\n",
        "\n",
        "      documents[l] = (' '.join(tempReview), label)\n",
        "  return documents"
      ],
      "execution_count": 0,
      "outputs": []
    },
    {
      "cell_type": "code",
      "metadata": {
        "id": "o99LmcQXare2",
        "colab_type": "code",
        "colab": {}
      },
      "source": [
        "# path = '/content/drive/My Drive/NLP/Sentiment-Analysis-on-the-Rotten-Tomatoes-movie-review-dataset-master/train.tsv'\n",
        "path = \"https://raw.githubusercontent.com/cacoderquan/Sentiment-Analysis-on-the-Rotten-Tomatoes-movie-review-dataset/master/train.tsv\"\n",
        "dataset = load_dataset(path)"
      ],
      "execution_count": 0,
      "outputs": []
    },
    {
      "cell_type": "code",
      "metadata": {
        "id": "2T3gGEI8CEWk",
        "colab_type": "code",
        "outputId": "b762c264-0784-4ccd-ef91-17062cf1d2ff",
        "colab": {
          "base_uri": "https://localhost:8080/",
          "height": 204
        }
      },
      "source": [
        "dataset.head()"
      ],
      "execution_count": 13,
      "outputs": [
        {
          "output_type": "execute_result",
          "data": {
            "text/html": [
              "<div>\n",
              "<style scoped>\n",
              "    .dataframe tbody tr th:only-of-type {\n",
              "        vertical-align: middle;\n",
              "    }\n",
              "\n",
              "    .dataframe tbody tr th {\n",
              "        vertical-align: top;\n",
              "    }\n",
              "\n",
              "    .dataframe thead th {\n",
              "        text-align: right;\n",
              "    }\n",
              "</style>\n",
              "<table border=\"1\" class=\"dataframe\">\n",
              "  <thead>\n",
              "    <tr style=\"text-align: right;\">\n",
              "      <th></th>\n",
              "      <th>Phrase</th>\n",
              "      <th>Sentiment</th>\n",
              "    </tr>\n",
              "  </thead>\n",
              "  <tbody>\n",
              "    <tr>\n",
              "      <th>0</th>\n",
              "      <td>A series of escapades demonstrating the adage ...</td>\n",
              "      <td>1</td>\n",
              "    </tr>\n",
              "    <tr>\n",
              "      <th>1</th>\n",
              "      <td>A series of escapades demonstrating the adage ...</td>\n",
              "      <td>2</td>\n",
              "    </tr>\n",
              "    <tr>\n",
              "      <th>2</th>\n",
              "      <td>A series</td>\n",
              "      <td>2</td>\n",
              "    </tr>\n",
              "    <tr>\n",
              "      <th>3</th>\n",
              "      <td>A</td>\n",
              "      <td>2</td>\n",
              "    </tr>\n",
              "    <tr>\n",
              "      <th>4</th>\n",
              "      <td>series</td>\n",
              "      <td>2</td>\n",
              "    </tr>\n",
              "  </tbody>\n",
              "</table>\n",
              "</div>"
            ],
            "text/plain": [
              "                                              Phrase  Sentiment\n",
              "0  A series of escapades demonstrating the adage ...          1\n",
              "1  A series of escapades demonstrating the adage ...          2\n",
              "2                                           A series          2\n",
              "3                                                  A          2\n",
              "4                                             series          2"
            ]
          },
          "metadata": {
            "tags": []
          },
          "execution_count": 13
        }
      ]
    },
    {
      "cell_type": "code",
      "metadata": {
        "id": "8C53PYx6RxkX",
        "colab_type": "code",
        "outputId": "51ebcbd6-5fc6-409e-c596-b2828c1b2c45",
        "colab": {
          "base_uri": "https://localhost:8080/",
          "height": 336
        }
      },
      "source": [
        "visualize_dataset(dataset)\n",
        "documents = dataset.values.tolist()\n",
        "documents = preprocess_dataset(documents)"
      ],
      "execution_count": 14,
      "outputs": [
        {
          "output_type": "display_data",
          "data": {
            "image/png": "[encoded data removed]",
            "text/plain": [
              "<Figure size 1440x360 with 3 Axes>"
            ]
          },
          "metadata": {
            "tags": []
          }
        }
      ]
    },
    {
      "cell_type": "code",
      "metadata": {
        "id": "Yu2bB9CA7kAO",
        "colab_type": "code",
        "colab": {}
      },
      "source": [
        "# print('Phrase: ',documents[0][0],'\\nSentiment: ',documents[0][1])"
      ],
      "execution_count": 0,
      "outputs": []
    },
    {
      "cell_type": "code",
      "metadata": {
        "id": "9MZ1C7AoSB9e",
        "colab_type": "code",
        "colab": {}
      },
      "source": [
        "# print(documents[200:210])"
      ],
      "execution_count": 0,
      "outputs": []
    },
    {
      "cell_type": "code",
      "metadata": {
        "id": "APng2eRrc1eP",
        "colab_type": "code",
        "outputId": "41d7ce8f-7e50-4c59-aef9-8ef78b51d6e3",
        "colab": {
          "base_uri": "https://localhost:8080/",
          "height": 34
        }
      },
      "source": [
        "len(documents)"
      ],
      "execution_count": 0,
      "outputs": [
        {
          "output_type": "execute_result",
          "data": {
            "text/plain": [
              "156060"
            ]
          },
          "metadata": {
            "tags": []
          },
          "execution_count": 11
        }
      ]
    },
    {
      "cell_type": "code",
      "metadata": {
        "id": "nkevIqMIbp0v",
        "colab_type": "code",
        "colab": {}
      },
      "source": [
        "all_data = pd.DataFrame(documents, columns=['Phrase', 'Sentiment'])\n",
        "x_train, x_test, y_train, y_test = train_test_split(all_data['Phrase'], all_data['Sentiment'], train_size = 0.7, shuffle = True, random_state = 2003, stratify = all_data['Sentiment'])"
      ],
      "execution_count": 0,
      "outputs": []
    },
    {
      "cell_type": "code",
      "metadata": {
        "id": "xyVXKQfGFZAY",
        "colab_type": "code",
        "colab": {}
      },
      "source": [
        "vectorizer = TfidfVectorizer(stop_words = 'english', ngram_range= (1,1), max_features = 2500)\n",
        "x_train = vectorizer.fit_transform(x_train)\n",
        "x_test = vectorizer.transform(x_test)\n",
        "# all_data = pd.DataFrame(documents, columns=['Phrase', 'Sentiment'])"
      ],
      "execution_count": 0,
      "outputs": []
    },
    {
      "cell_type": "code",
      "metadata": {
        "id": "_lp_g-rIHJUZ",
        "colab_type": "code",
        "outputId": "b8a556d8-a2f0-4a9e-ba54-a7d1f032de55",
        "colab": {
          "base_uri": "https://localhost:8080/",
          "height": 34
        }
      },
      "source": [
        "print( x_train.shape, x_test.shape)"
      ],
      "execution_count": 18,
      "outputs": [
        {
          "output_type": "stream",
          "text": [
            "(109242, 2500) (46818, 2500)\n"
          ],
          "name": "stdout"
        }
      ]
    },
    {
      "cell_type": "code",
      "metadata": {
        "id": "OFPHxML6K0NH",
        "colab_type": "code",
        "colab": {}
      },
      "source": [
        "x_train_np = x_train.toarray()\n",
        "y_train_np = to_categorical(y_train)\n",
        "x_test_np = x_test.toarray()\n",
        "y_test_np = to_categorical(y_test)"
      ],
      "execution_count": 0,
      "outputs": []
    },
    {
      "cell_type": "code",
      "metadata": {
        "id": "HQybB0Hxvx5d",
        "colab_type": "code",
        "colab": {}
      },
      "source": [
        "x_train_final = np.expand_dims(x_train_np, axis=2)\n",
        "x_test_final = np.expand_dims(x_test_np, axis=2)"
      ],
      "execution_count": 0,
      "outputs": []
    },
    {
      "cell_type": "code",
      "metadata": {
        "id": "X99iaPvOUk34",
        "colab_type": "code",
        "outputId": "eb46a01b-3151-411e-b861-aa52a9a34232",
        "colab": {
          "base_uri": "https://localhost:8080/",
          "height": 34
        }
      },
      "source": [
        "print(x_train.shape, y_train.shape, x_test.shape, y_test.shape)"
      ],
      "execution_count": 0,
      "outputs": [
        {
          "output_type": "stream",
          "text": [
            "(109242, 2500) (109242,) (46818, 2500) (46818,)\n"
          ],
          "name": "stdout"
        }
      ]
    },
    {
      "cell_type": "code",
      "metadata": {
        "id": "5D8N6XH_d1gO",
        "colab_type": "code",
        "colab": {}
      },
      "source": [
        "def model_CNN():\n",
        "  model = Sequential()\n",
        "\n",
        "  model.add(Conv1D(filters = 64, kernel_size=1, activation='relu', input_shape=(x_train_np.shape[1],1)))\n",
        "  model.add(Conv1D(filters = 128, kernel_size=1))\n",
        "  # Batch normalization layer added here\n",
        "  model.add(BatchNormalization())\n",
        "  model.add(Activation('relu'))\n",
        "  model.add(MaxPooling1D(pool_size=2))\n",
        "  model.add(Dropout(0.25))\n",
        "\n",
        "  model.add(Flatten())\n",
        "  model.add(Dense(256))\n",
        "  # Batch normalization layer added here\n",
        "  model.add(BatchNormalization())\n",
        "  model.add(Activation('relu'))\n",
        "  model.add(Dropout(0.5))\n",
        "  model.add(Dense(5, activation='softmax'))\n",
        "  return model"
      ],
      "execution_count": 0,
      "outputs": []
    },
    {
      "cell_type": "code",
      "metadata": {
        "id": "gRx8QlPoeyN9",
        "colab_type": "code",
        "outputId": "f556076c-c9d6-4d49-8648-b3c75b2e9502",
        "colab": {
          "base_uri": "https://localhost:8080/",
          "height": 224
        }
      },
      "source": [
        "model = model_CNN()"
      ],
      "execution_count": 21,
      "outputs": [
        {
          "output_type": "stream",
          "text": [
            "WARNING:tensorflow:From /usr/local/lib/python3.6/dist-packages/keras/backend/tensorflow_backend.py:541: The name tf.placeholder is deprecated. Please use tf.compat.v1.placeholder instead.\n",
            "\n",
            "WARNING:tensorflow:From /usr/local/lib/python3.6/dist-packages/keras/backend/tensorflow_backend.py:4432: The name tf.random_uniform is deprecated. Please use tf.random.uniform instead.\n",
            "\n",
            "WARNING:tensorflow:From /usr/local/lib/python3.6/dist-packages/keras/backend/tensorflow_backend.py:148: The name tf.placeholder_with_default is deprecated. Please use tf.compat.v1.placeholder_with_default instead.\n",
            "\n",
            "WARNING:tensorflow:From /usr/local/lib/python3.6/dist-packages/keras/backend/tensorflow_backend.py:4267: The name tf.nn.max_pool is deprecated. Please use tf.nn.max_pool2d instead.\n",
            "\n",
            "WARNING:tensorflow:From /usr/local/lib/python3.6/dist-packages/keras/backend/tensorflow_backend.py:3733: calling dropout (from tensorflow.python.ops.nn_ops) with keep_prob is deprecated and will be removed in a future version.\n",
            "Instructions for updating:\n",
            "Please use `rate` instead of `keep_prob`. Rate should be set to `rate = 1 - keep_prob`.\n"
          ],
          "name": "stdout"
        }
      ]
    },
    {
      "cell_type": "code",
      "metadata": {
        "id": "pLv09IX3aFgx",
        "colab_type": "code",
        "outputId": "7a4fb228-a4e5-40f5-8069-536e3f9f9acd",
        "colab": {
          "base_uri": "https://localhost:8080/",
          "height": 561
        }
      },
      "source": [
        "model.summary()"
      ],
      "execution_count": 22,
      "outputs": [
        {
          "output_type": "stream",
          "text": [
            "Model: \"sequential_3\"\n",
            "_________________________________________________________________\n",
            "Layer (type)                 Output Shape              Param #   \n",
            "=================================================================\n",
            "conv1d_1 (Conv1D)            (None, 2500, 64)          128       \n",
            "_________________________________________________________________\n",
            "conv1d_2 (Conv1D)            (None, 2500, 128)         8320      \n",
            "_________________________________________________________________\n",
            "batch_normalization_1 (Batch (None, 2500, 128)         512       \n",
            "_________________________________________________________________\n",
            "activation_1 (Activation)    (None, 2500, 128)         0         \n",
            "_________________________________________________________________\n",
            "max_pooling1d_1 (MaxPooling1 (None, 1250, 128)         0         \n",
            "_________________________________________________________________\n",
            "dropout_1 (Dropout)          (None, 1250, 128)         0         \n",
            "_________________________________________________________________\n",
            "flatten_1 (Flatten)          (None, 160000)            0         \n",
            "_________________________________________________________________\n",
            "dense_1 (Dense)              (None, 256)               40960256  \n",
            "_________________________________________________________________\n",
            "batch_normalization_2 (Batch (None, 256)               1024      \n",
            "_________________________________________________________________\n",
            "activation_2 (Activation)    (None, 256)               0         \n",
            "_________________________________________________________________\n",
            "dropout_2 (Dropout)          (None, 256)               0         \n",
            "_________________________________________________________________\n",
            "dense_2 (Dense)              (None, 5)                 1285      \n",
            "=================================================================\n",
            "Total params: 40,971,525\n",
            "Trainable params: 40,970,757\n",
            "Non-trainable params: 768\n",
            "_________________________________________________________________\n"
          ],
          "name": "stdout"
        }
      ]
    },
    {
      "cell_type": "code",
      "metadata": {
        "id": "v0D-VzbIaRfy",
        "colab_type": "code",
        "outputId": "a8bdf2b0-88b0-4b49-f766-7e2a70b9ca3b",
        "colab": {
          "base_uri": "https://localhost:8080/",
          "height": 105
        }
      },
      "source": [
        "from keras import backend as K\n",
        "\n",
        "def recall(y_true, y_pred):\n",
        "  true_positives = K.sum(K.round(K.clip(y_true * y_pred, 0, 1)))\n",
        "  possible_positives = K.sum(K.round(K.clip(y_true, 0, 1)))\n",
        "  recall = true_positives / (possible_positives + K.epsilon())\n",
        "  return recall\n",
        "\n",
        "def precision(y_true, y_pred):\n",
        "  true_positives = K.sum(K.round(K.clip(y_true * y_pred, 0, 1)))\n",
        "  predicted_positives = K.sum(K.round(K.clip(y_pred, 0, 1)))\n",
        "  precision = true_positives / (predicted_positives + K.epsilon())\n",
        "  return precision\n",
        "\n",
        "def f1score(y_true, y_pred):\n",
        "\n",
        "  prec = precision(y_true, y_pred)\n",
        "  rec = recall(y_true, y_pred)\n",
        "  f1score = (2 * (prec * rec)/(rec + prec))\n",
        "  return f1score\n",
        "\n",
        "\n",
        "epochs = 30\n",
        "# rms = optimizers.RMSprop(lr=0.001, rho=0.9)\n",
        "# nadam = optimizers.Nadam(lr = 0.01, beta_1=0.9, beta_2=0.999)\n",
        "adamax = optimizers.Adamax(lr = 0.01, beta_1=0.9, beta_2=0.999, decay = 0.001)\n",
        "# adam = optimizers.Adam(lr = 0.01, beta_1=0.9, beta_2=0.999, amsgrad=True, decay = 0.001 )\n",
        "# model.compile(optimizer='adamax', loss='categorical_crossentropy', metrics=['acc',  precision, recall])\n",
        "model.compile(optimizer=adamax, loss='categorical_crossentropy', metrics=['acc', recall, precision, f1score])"
      ],
      "execution_count": 28,
      "outputs": [
        {
          "output_type": "stream",
          "text": [
            "WARNING:tensorflow:From /usr/local/lib/python3.6/dist-packages/keras/optimizers.py:793: The name tf.train.Optimizer is deprecated. Please use tf.compat.v1.train.Optimizer instead.\n",
            "\n",
            "WARNING:tensorflow:From /usr/local/lib/python3.6/dist-packages/keras/backend/tensorflow_backend.py:3576: The name tf.log is deprecated. Please use tf.math.log instead.\n",
            "\n"
          ],
          "name": "stdout"
        }
      ]
    },
    {
      "cell_type": "code",
      "metadata": {
        "id": "Q0Y96HPRvGSO",
        "colab_type": "code",
        "outputId": "3fa1d982-bd5a-4f55-aa35-5fc9059979d3",
        "colab": {
          "base_uri": "https://localhost:8080/",
          "height": 1000
        }
      },
      "source": [
        "# history = model.fit(x_train_final, y_train_np, validation_data=(x_test_final, y_test_np), epochs= epochs, batch_size = 128)\n",
        "history = model.fit(x_train_final, y_train_np, validation_data=( x_test_final, y_test_np), epochs= epochs, batch_size = 128)"
      ],
      "execution_count": 0,
      "outputs": [
        {
          "output_type": "stream",
          "text": [
            "WARNING:tensorflow:From /tensorflow-1.15.0/python3.6/tensorflow_core/python/ops/math_grad.py:1424: where (from tensorflow.python.ops.array_ops) is deprecated and will be removed in a future version.\n",
            "Instructions for updating:\n",
            "Use tf.where in 2.0, which has the same broadcast rule as np.where\n",
            "WARNING:tensorflow:From /usr/local/lib/python3.6/dist-packages/keras/backend/tensorflow_backend.py:1033: The name tf.assign_add is deprecated. Please use tf.compat.v1.assign_add instead.\n",
            "\n",
            "WARNING:tensorflow:From /usr/local/lib/python3.6/dist-packages/keras/backend/tensorflow_backend.py:1020: The name tf.assign is deprecated. Please use tf.compat.v1.assign instead.\n",
            "\n",
            "WARNING:tensorflow:From /usr/local/lib/python3.6/dist-packages/keras/backend/tensorflow_backend.py:3005: The name tf.Session is deprecated. Please use tf.compat.v1.Session instead.\n",
            "\n",
            "Train on 109242 samples, validate on 46818 samples\n",
            "Epoch 1/30\n",
            "WARNING:tensorflow:From /usr/local/lib/python3.6/dist-packages/keras/backend/tensorflow_backend.py:190: The name tf.get_default_session is deprecated. Please use tf.compat.v1.get_default_session instead.\n",
            "\n",
            "WARNING:tensorflow:From /usr/local/lib/python3.6/dist-packages/keras/backend/tensorflow_backend.py:197: The name tf.ConfigProto is deprecated. Please use tf.compat.v1.ConfigProto instead.\n",
            "\n",
            "WARNING:tensorflow:From /usr/local/lib/python3.6/dist-packages/keras/backend/tensorflow_backend.py:207: The name tf.global_variables is deprecated. Please use tf.compat.v1.global_variables instead.\n",
            "\n",
            "WARNING:tensorflow:From /usr/local/lib/python3.6/dist-packages/keras/backend/tensorflow_backend.py:216: The name tf.is_variable_initialized is deprecated. Please use tf.compat.v1.is_variable_initialized instead.\n",
            "\n",
            "WARNING:tensorflow:From /usr/local/lib/python3.6/dist-packages/keras/backend/tensorflow_backend.py:223: The name tf.variables_initializer is deprecated. Please use tf.compat.v1.variables_initializer instead.\n",
            "\n",
            "109242/109242 [==============================] - 160s 1ms/step - loss: 1.1496 - acc: 0.5524 - recall: 0.3935 - precision: 0.6352 - f1score: 0.4850 - val_loss: 2.2678 - val_acc: 0.2787 - val_recall: 0.2328 - val_precision: 0.3337 - val_f1score: 0.2740\n",
            "Epoch 2/30\n",
            "109242/109242 [==============================] - 146s 1ms/step - loss: 1.0254 - acc: 0.5957 - recall: 0.4676 - precision: 0.6675 - f1score: 0.5495 - val_loss: 2.8656 - val_acc: 0.2702 - val_recall: 0.2673 - val_precision: 0.2718 - val_f1score: 0.2695\n",
            "Epoch 3/30\n",
            "109242/109242 [==============================] - 146s 1ms/step - loss: 0.9822 - acc: 0.6148 - recall: 0.5016 - precision: 0.6784 - f1score: 0.5764 - val_loss: 1.8970 - val_acc: 0.2972 - val_recall: 0.2444 - val_precision: 0.3523 - val_f1score: 0.2883\n",
            "Epoch 4/30\n",
            "109242/109242 [==============================] - 146s 1ms/step - loss: 0.9521 - acc: 0.6279 - recall: 0.5255 - precision: 0.6852 - f1score: 0.5945 - val_loss: 3.1552 - val_acc: 0.2816 - val_recall: 0.2791 - val_precision: 0.2841 - val_f1score: 0.2816\n",
            "Epoch 5/30\n",
            "109242/109242 [==============================] - 146s 1ms/step - loss: 0.9299 - acc: 0.6377 - recall: 0.5445 - precision: 0.6914 - f1score: 0.6089 - val_loss: 2.1094 - val_acc: 0.2903 - val_recall: 0.2803 - val_precision: 0.3005 - val_f1score: 0.2900\n",
            "Epoch 6/30\n",
            "109242/109242 [==============================] - 146s 1ms/step - loss: 0.9120 - acc: 0.6454 - recall: 0.5604 - precision: 0.6958 - f1score: 0.6205 - val_loss: 2.7568 - val_acc: 0.3209 - val_recall: 0.2893 - val_precision: 0.3163 - val_f1score: 0.3021\n",
            "Epoch 7/30\n",
            "109242/109242 [==============================] - 146s 1ms/step - loss: 0.8979 - acc: 0.6512 - recall: 0.5684 - precision: 0.6987 - f1score: 0.6266 - val_loss: 2.1255 - val_acc: 0.3043 - val_recall: 0.2780 - val_precision: 0.3060 - val_f1score: 0.2913\n",
            "Epoch 8/30\n",
            "109242/109242 [==============================] - 146s 1ms/step - loss: 0.8861 - acc: 0.6568 - recall: 0.5803 - precision: 0.7027 - f1score: 0.6354 - val_loss: 1.7775 - val_acc: 0.3945 - val_recall: 0.3618 - val_precision: 0.3958 - val_f1score: 0.3780\n",
            "Epoch 9/30\n",
            "109242/109242 [==============================] - 146s 1ms/step - loss: 0.8762 - acc: 0.6612 - recall: 0.5875 - precision: 0.7041 - f1score: 0.6403 - val_loss: 2.2788 - val_acc: 0.3068 - val_recall: 0.2805 - val_precision: 0.3046 - val_f1score: 0.2920\n",
            "Epoch 10/30\n",
            "109242/109242 [==============================] - 146s 1ms/step - loss: 0.8659 - acc: 0.6659 - recall: 0.5954 - precision: 0.7082 - f1score: 0.6467 - val_loss: 1.8634 - val_acc: 0.5712 - val_recall: 0.5659 - val_precision: 0.5755 - val_f1score: 0.5706\n",
            "Epoch 11/30\n",
            "109242/109242 [==============================] - 145s 1ms/step - loss: 0.8584 - acc: 0.6685 - recall: 0.6007 - precision: 0.7112 - f1score: 0.6511 - val_loss: 1.6833 - val_acc: 0.3585 - val_recall: 0.2986 - val_precision: 0.4187 - val_f1score: 0.3483\n",
            "Epoch 12/30\n",
            "109242/109242 [==============================] - 146s 1ms/step - loss: 0.8525 - acc: 0.6710 - recall: 0.6047 - precision: 0.7110 - f1score: 0.6533 - val_loss: 2.9910 - val_acc: 0.3363 - val_recall: 0.3174 - val_precision: 0.3355 - val_f1score: 0.3261\n",
            "Epoch 13/30\n",
            "109242/109242 [==============================] - 146s 1ms/step - loss: 0.8457 - acc: 0.6741 - recall: 0.6088 - precision: 0.7138 - f1score: 0.6569 - val_loss: 1.7681 - val_acc: 0.4075 - val_recall: 0.3882 - val_precision: 0.4117 - val_f1score: 0.3996\n",
            "Epoch 14/30\n",
            "109242/109242 [==============================] - 146s 1ms/step - loss: 0.8423 - acc: 0.6756 - recall: 0.6110 - precision: 0.7135 - f1score: 0.6581 - val_loss: 2.2125 - val_acc: 0.5630 - val_recall: 0.5581 - val_precision: 0.5669 - val_f1score: 0.5625\n",
            "Epoch 15/30\n",
            "109242/109242 [==============================] - 146s 1ms/step - loss: 0.8377 - acc: 0.6780 - recall: 0.6161 - precision: 0.7157 - f1score: 0.6619 - val_loss: 1.0103 - val_acc: 0.6205 - val_recall: 0.4111 - val_precision: 0.6396 - val_f1score: 0.5000\n",
            "Epoch 16/30\n",
            "109242/109242 [==============================] - 146s 1ms/step - loss: 0.8340 - acc: 0.6790 - recall: 0.6167 - precision: 0.7155 - f1score: 0.6623 - val_loss: 1.1261 - val_acc: 0.6047 - val_recall: 0.4375 - val_precision: 0.5973 - val_f1score: 0.5047\n",
            "Epoch 17/30\n",
            "109242/109242 [==============================] - 146s 1ms/step - loss: 0.8296 - acc: 0.6801 - recall: 0.6210 - precision: 0.7175 - f1score: 0.6656 - val_loss: 1.0564 - val_acc: 0.6115 - val_recall: 0.5623 - val_precision: 0.6365 - val_f1score: 0.5970\n",
            "Epoch 18/30\n",
            "109242/109242 [==============================] - 146s 1ms/step - loss: 0.8260 - acc: 0.6816 - recall: 0.6241 - precision: 0.7183 - f1score: 0.6677 - val_loss: 1.2443 - val_acc: 0.5936 - val_recall: 0.4410 - val_precision: 0.5751 - val_f1score: 0.4989\n",
            "Epoch 19/30\n",
            "109242/109242 [==============================] - 146s 1ms/step - loss: 0.8225 - acc: 0.6832 - recall: 0.6243 - precision: 0.7190 - f1score: 0.6681 - val_loss: 1.3270 - val_acc: 0.5666 - val_recall: 0.4045 - val_precision: 0.5453 - val_f1score: 0.4642\n",
            "Epoch 20/30\n",
            "109242/109242 [==============================] - 146s 1ms/step - loss: 0.8188 - acc: 0.6854 - recall: 0.6283 - precision: 0.7209 - f1score: 0.6712 - val_loss: 1.0392 - val_acc: 0.6191 - val_recall: 0.5758 - val_precision: 0.6420 - val_f1score: 0.6069\n",
            "Epoch 21/30\n",
            "109242/109242 [==============================] - 146s 1ms/step - loss: 0.8175 - acc: 0.6860 - recall: 0.6290 - precision: 0.7214 - f1score: 0.6718 - val_loss: 1.3278 - val_acc: 0.5806 - val_recall: 0.4301 - val_precision: 0.5591 - val_f1score: 0.4859\n",
            "Epoch 22/30\n",
            "109242/109242 [==============================] - 146s 1ms/step - loss: 0.8149 - acc: 0.6877 - recall: 0.6320 - precision: 0.7215 - f1score: 0.6736 - val_loss: 1.4833 - val_acc: 0.5799 - val_recall: 0.5703 - val_precision: 0.5864 - val_f1score: 0.5782\n",
            "Epoch 23/30\n",
            "109242/109242 [==============================] - 146s 1ms/step - loss: 0.8092 - acc: 0.6899 - recall: 0.6346 - precision: 0.7238 - f1score: 0.6761 - val_loss: 1.0120 - val_acc: 0.6229 - val_recall: 0.5771 - val_precision: 0.6469 - val_f1score: 0.6099\n",
            "Epoch 24/30\n",
            "109242/109242 [==============================] - 146s 1ms/step - loss: 0.8111 - acc: 0.6883 - recall: 0.6346 - precision: 0.7223 - f1score: 0.6754 - val_loss: 1.1848 - val_acc: 0.6009 - val_recall: 0.4435 - val_precision: 0.5876 - val_f1score: 0.5051\n",
            "Epoch 25/30\n",
            "109242/109242 [==============================] - 146s 1ms/step - loss: 0.8077 - acc: 0.6896 - recall: 0.6359 - precision: 0.7232 - f1score: 0.6766 - val_loss: 1.4788 - val_acc: 0.5857 - val_recall: 0.5757 - val_precision: 0.5931 - val_f1score: 0.5843\n",
            "Epoch 26/30\n",
            "109242/109242 [==============================] - 146s 1ms/step - loss: 0.8039 - acc: 0.6915 - recall: 0.6388 - precision: 0.7252 - f1score: 0.6791 - val_loss: 1.3191 - val_acc: 0.5653 - val_recall: 0.4070 - val_precision: 0.5420 - val_f1score: 0.4646\n",
            "Epoch 27/30\n",
            "109242/109242 [==============================] - 146s 1ms/step - loss: 0.8037 - acc: 0.6908 - recall: 0.6394 - precision: 0.7244 - f1score: 0.6791 - val_loss: 1.0057 - val_acc: 0.6233 - val_recall: 0.5757 - val_precision: 0.6498 - val_f1score: 0.6103\n",
            "Epoch 28/30\n",
            "109242/109242 [==============================] - 146s 1ms/step - loss: 0.8018 - acc: 0.6927 - recall: 0.6404 - precision: 0.7261 - f1score: 0.6804 - val_loss: 1.1673 - val_acc: 0.5935 - val_recall: 0.4230 - val_precision: 0.5815 - val_f1score: 0.4894\n",
            "Epoch 29/30\n",
            "109242/109242 [==============================] - 146s 1ms/step - loss: 0.7982 - acc: 0.6926 - recall: 0.6416 - precision: 0.7260 - f1score: 0.6810 - val_loss: 1.1147 - val_acc: 0.6047 - val_recall: 0.5720 - val_precision: 0.6229 - val_f1score: 0.5963\n",
            "Epoch 30/30\n",
            "109242/109242 [==============================] - 146s 1ms/step - loss: 0.8014 - acc: 0.6927 - recall: 0.6415 - precision: 0.7255 - f1score: 0.6807 - val_loss: 1.0181 - val_acc: 0.6238 - val_recall: 0.5823 - val_precision: 0.6465 - val_f1score: 0.6126\n"
          ],
          "name": "stdout"
        }
      ]
    },
    {
      "cell_type": "code",
      "metadata": {
        "id": "aZwl_Qcx_SEU",
        "colab_type": "code",
        "outputId": "a4bd7410-d3e5-407c-e032-c249647d388a",
        "colab": {
          "base_uri": "https://localhost:8080/",
          "height": 54
        }
      },
      "source": [
        "print(history.history)"
      ],
      "execution_count": 0,
      "outputs": [
        {
          "output_type": "stream",
          "text": [
            "{'val_loss': [2.267806084398743, 2.865570843196841, 1.8969696860600833, 3.155162042359264, 2.109394493119934, 2.7568102473455705, 2.125530395265819, 1.7775342397735856, 2.2787675449740115, 1.8634195692684146, 1.6833381490739174, 2.990962225785142, 1.768093163065055, 2.212499353437413, 1.010346645796394, 1.126109307490296, 1.0564065675946506, 1.2443296406859696, 1.3270430640095938, 1.03918687002464, 1.3277697534500863, 1.4833087838288328, 1.0120291668803787, 1.1848453284583051, 1.4787734948084974, 1.3191458605412227, 1.0056629046747465, 1.1673145814129153, 1.1146594073304026, 1.018066762092963], 'val_acc': [0.2786535093200126, 0.27017386474714383, 0.297172027848716, 0.28155837496997627, 0.2903156905323668, 0.32088085780628944, 0.3042846768298771, 0.3945277457464571, 0.30684779357984504, 0.5711905677838309, 0.35845187750084295, 0.33632363623503136, 0.40749284466041485, 0.5629885940999079, 0.6205305651697895, 0.6047460378512369, 0.6115382972284671, 0.5936391986319305, 0.5665769576135188, 0.6190567730080033, 0.580631381136028, 0.5799478832316411, 0.6229228074595747, 0.6008586441036006, 0.5856935367070298, 0.5653381178408493, 0.6232645563799404, 0.5935110427944321, 0.6046819599528576, 0.623777179719749], 'val_recall': [0.23279507884257544, 0.2673117177096796, 0.244371822787918, 0.2791447733637564, 0.2802981759114269, 0.28933316248561874, 0.27797001154039097, 0.3618052885604081, 0.2805117689522813, 0.5658721004130671, 0.29858174205101345, 0.3173565722432557, 0.38824810967720774, 0.5581186722749688, 0.4111025673758801, 0.43748131061594325, 0.5623050963533872, 0.4410483147800185, 0.4045452603890399, 0.5757614593110889, 0.43013370928640493, 0.5702507581942624, 0.5771498142173215, 0.4435046349579982, 0.5757401000048391, 0.407022939903824, 0.5756546627696553, 0.4229783416825595, 0.5720235807173856, 0.5823187663297569], 'val_precision': [0.333672561177613, 0.27175380248242054, 0.35228646039743794, 0.284077907626818, 0.30048407177871334, 0.3162597317115383, 0.3060279489492911, 0.39584223266530716, 0.3046221646852529, 0.5755195463425306, 0.41874796357722754, 0.3354609991335503, 0.4116590347366528, 0.5669213890917324, 0.6396430385780383, 0.5972751160343025, 0.6365370022206117, 0.5751038734394155, 0.5452715776050059, 0.6419553488672475, 0.5591030394441778, 0.5863944385515039, 0.6468537477921623, 0.5875507721128312, 0.5930980948820501, 0.5419911297078858, 0.6497511918376006, 0.5815435789865748, 0.622913197280657, 0.6465392793058519], 'val_f1score': [0.2740220919202427, 0.26950554552940503, 0.2883146618683033, 0.2815808536119374, 0.2899995356514268, 0.3021447381127308, 0.29126263562722127, 0.3779921050402013, 0.29201404966458216, 0.5706366000942807, 0.34833485633357636, 0.3261226211019295, 0.3995632636493109, 0.562465550239116, 0.5000184466852688, 0.5046594194347619, 0.596978487998083, 0.49893707031243034, 0.46416177879338627, 0.6069188723397523, 0.48590988993232226, 0.5781771396805381, 0.609852030737712, 0.5051493042786122, 0.584254754893808, 0.46464395162525446, 0.6102846842807403, 0.4894090078103048, 0.5962851923978376, 0.6126119475723397], 'loss': [1.1496145073605095, 1.0254015738050364, 0.9821659438230893, 0.9520974096341623, 0.9298837245731749, 0.9120110351002965, 0.8978991050664867, 0.8861230918134168, 0.8761670195432831, 0.8658806764861905, 0.8583891658235069, 0.852520956596939, 0.8457343447324295, 0.8423439886773777, 0.8376595118348692, 0.8339618493264846, 0.8296403891740686, 0.8259807223847748, 0.8224624553076554, 0.8188173427283835, 0.8174941771380191, 0.8148746956798298, 0.8092307433808174, 0.8110850279716765, 0.80771170575451, 0.8039300223908524, 0.8036791080653398, 0.8018265393158702, 0.7982157111108981, 0.8013952100687908], 'acc': [0.5524248915241463, 0.5957232566316405, 0.6148276304083858, 0.6279178337980043, 0.6376576774380613, 0.6454294135933211, 0.6511964262818403, 0.6568078211556792, 0.6611834276172313, 0.6658702696644944, 0.6684516944185288, 0.6710239651481597, 0.6740630892956415, 0.6755734973880827, 0.6780450742268422, 0.6790153969953817, 0.6800681056594559, 0.6816242836982258, 0.6832262316658645, 0.6854048809120672, 0.6860090441470795, 0.6877299939638238, 0.6898811812284797, 0.6883341571999274, 0.6896431775291771, 0.6914831292059396, 0.6907965800841226, 0.692673147687175, 0.6925816077912439, 0.6926731476773539], 'recall': [0.3934933450564403, 0.46756741912451255, 0.501601947975823, 0.5255396276157522, 0.5444517676313393, 0.5604163233910107, 0.5684169092473591, 0.5802896321987482, 0.5874572051042639, 0.5954394829718231, 0.6007030263041977, 0.6046575492909537, 0.6087676900694741, 0.6110470331989094, 0.6160817268034599, 0.6167408139606443, 0.6210431885248756, 0.6240914666607502, 0.6243020083719585, 0.6283206092960149, 0.6289980044174355, 0.631973050663628, 0.6345727833715319, 0.6346002453247065, 0.6359092656648686, 0.6387927720074914, 0.6393877812606583, 0.6404496439087602, 0.6416305084092416, 0.6415389685165842], 'precision': [0.6351589278641319, 0.6674543551215253, 0.6783787882233532, 0.6852209178374453, 0.6914283724841753, 0.6957831630037464, 0.6986703967127526, 0.7027058109895606, 0.7041104467195667, 0.7081885117922814, 0.7111556175793041, 0.7110107834726183, 0.713846113325787, 0.7135153348544846, 0.7157004424436214, 0.715493342221079, 0.7174547082395154, 0.7182850026774001, 0.7189925447436735, 0.7209001448550307, 0.7214119345966212, 0.7215410305945144, 0.7238197584291115, 0.7223017320673354, 0.7231924809556807, 0.7251742686356453, 0.7244182771737755, 0.7261463257726547, 0.7259693994988011, 0.7254971774485496], 'f1score': [0.484999895149296, 0.5494797738721393, 0.576355779508838, 0.5944894092633094, 0.608897967437734, 0.6205137857466134, 0.6265849306347653, 0.6354095860624154, 0.6402820289365231, 0.6467080115333506, 0.6510509910424349, 0.6533096515216368, 0.6569200435654386, 0.6580974519568146, 0.6619477931917706, 0.6622540105358431, 0.6655822140382495, 0.6676848664238968, 0.6681252263677488, 0.6712461212523323, 0.6718416288029923, 0.6736173082132634, 0.6760854623436052, 0.6754454491959988, 0.676567338302417, 0.6790769462590164, 0.6790844390378816, 0.6804252824518634, 0.6810150453122942, 0.6807401743969415]}\n"
          ],
          "name": "stdout"
        }
      ]
    },
    {
      "cell_type": "code",
      "metadata": {
        "id": "v4F9QhNQJrbg",
        "colab_type": "code",
        "outputId": "290d1f4e-e25b-4799-a0fe-fdc80a6029e9",
        "colab": {
          "base_uri": "https://localhost:8080/",
          "height": 102
        }
      },
      "source": [
        "print('Avg Train Accuracy:\\t', (np.mean(history.history['acc'])))\n",
        "print('Avg Train Loss:\\t', np.mean(history.history['loss']))\n",
        "print('Avg Train Precison: \\t',  np.mean(history.history['precision']))\n",
        "print('Avg Train Recall: \\t',  np.mean(history.history['recall']))\n",
        "print('Avg Train F1 Score: \\t',  np.mean(history.history['f1score']))"
      ],
      "execution_count": 0,
      "outputs": [
        {
          "output_type": "stream",
          "text": [
            "Avg Accuracy:\t 0.6662446678011791\n",
            "Avg Loss:\t 0.8638065918222911\n",
            "Avg Precison: \t 0.7087642036777914\n",
            "Avg Recall: \t 0.594942726544774\n",
            "Avg F1 Score: \t 0.6457946204119143\n"
          ],
          "name": "stdout"
        }
      ]
    },
    {
      "cell_type": "code",
      "metadata": {
        "id": "EJV2u9Wi2gJd",
        "colab_type": "code",
        "outputId": "1d054644-508e-4917-9e7a-5ce4825864e8",
        "colab": {
          "base_uri": "https://localhost:8080/",
          "height": 102
        }
      },
      "source": [
        "print('Best Train Accuracy:\\t', (np.max(history.history['acc'])))\n",
        "print('Best Train Loss:\\t', np.min(history.history['loss']))\n",
        "print('Best Train Precison: \\t',  np.max(history.history['precision']))\n",
        "print('Best Train Recall: \\t',  np.max(history.history['recall']))\n",
        "print('Best Train F1 Score: \\t',  np.max(history.history['f1score']))"
      ],
      "execution_count": 0,
      "outputs": [
        {
          "output_type": "stream",
          "text": [
            "Best Train Accuracy:\t 0.692673147687175\n",
            "Best Train Loss:\t 0.7982157111108981\n",
            "Best Train Precison: \t 0.7261463257726547\n",
            "Best Train Recall: \t 0.6416305084092416\n",
            "Best Train F1 Score: \t 0.6810150453122942\n"
          ],
          "name": "stdout"
        }
      ]
    },
    {
      "cell_type": "code",
      "metadata": {
        "id": "a3HR_F6JIJW5",
        "colab_type": "code",
        "outputId": "31e7705c-04fc-4a8b-cce8-5d0d6cc127a8",
        "colab": {
          "base_uri": "https://localhost:8080/",
          "height": 34
        }
      },
      "source": [
        "matrices = model.evaluate(x = x_test_final, y = y_test_np)"
      ],
      "execution_count": 0,
      "outputs": [
        {
          "output_type": "stream",
          "text": [
            "46818/46818 [==============================] - 23s 492us/step\n"
          ],
          "name": "stdout"
        }
      ]
    },
    {
      "cell_type": "code",
      "metadata": {
        "id": "Ion-MsHpMkOF",
        "colab_type": "code",
        "outputId": "f2aa3d60-e505-4968-c048-f1fc75b048db",
        "colab": {
          "base_uri": "https://localhost:8080/",
          "height": 102
        }
      },
      "source": [
        "print('Test Loss:\\t', matrices[0], '\\nTest Accuracy:\\t', matrices[1], '\\nTest Precision:\\t', matrices[2], \n",
        "      '\\nTest Recall:\\t', matrices[3], '\\nTest F-Measure:\\t', matrices[4])"
      ],
      "execution_count": 0,
      "outputs": [
        {
          "output_type": "stream",
          "text": [
            "Test Loss:\t 1.018066761789962 \n",
            "Test Accuracy:\t 0.6237771797172028 \n",
            "Test Precision:\t 0.5823187662864711 \n",
            "Test Recall:\t 0.6464783394829141 \n",
            "Test F-Measure:\t 0.6121659892001264\n"
          ],
          "name": "stdout"
        }
      ]
    },
    {
      "cell_type": "code",
      "metadata": {
        "id": "JYJqsGeENJA-",
        "colab_type": "code",
        "colab": {}
      },
      "source": [
        "model.save('11043771dconv_cal.h5')"
      ],
      "execution_count": 0,
      "outputs": []
    },
    {
      "cell_type": "code",
      "metadata": {
        "id": "BvpQfSRcXPSH",
        "colab_type": "code",
        "outputId": "849fb078-375f-4d1a-811d-1ebcdb676828",
        "colab": {
          "base_uri": "https://localhost:8080/",
          "height": 562
        }
      },
      "source": [
        "history_df = pd.DataFrame(history.history)\n",
        "ax = history_df[['loss', 'val_loss']].plot(title = \"Loss\")\n",
        "ax.legend([\"Train\", \"Test\"]);\n",
        "ax = history_df[['acc', 'val_acc']].plot(title = \"Accuracy\")\n",
        "ax.legend(['Train', 'Test'])"
      ],
      "execution_count": 0,
      "outputs": [
        {
          "output_type": "execute_result",
          "data": {
            "text/plain": [
              "<matplotlib.legend.Legend at 0x7fb8ca4078d0>"
            ]
          },
          "metadata": {
            "tags": []
          },
          "execution_count": 37
        },
        {
          "output_type": "display_data",
          "data": {
            "image/png": "[encoded data removed]",
            "text/plain": [
              "<Figure size 432x288 with 1 Axes>"
            ]
          },
          "metadata": {
            "tags": []
          }
        },
        {
          "output_type": "display_data",
          "data": {
            "image/png": "[encoded data removed]",
            "text/plain": [
              "<Figure size 432x288 with 1 Axes>"
            ]
          },
          "metadata": {
            "tags": []
          }
        }
      ]
    },
    {
      "cell_type": "code",
      "metadata": {
        "id": "0WFTecxjnzCy",
        "colab_type": "code",
        "colab": {}
      },
      "source": [
        "history_df = pd.DataFrame(history.history)\n",
        "ax = history_df[['f1score', 'val_f1score', 'recall', 'val_recall', 'precision', 'val_precision']].plot(title = \"Metrics\")\n",
        "ax.legend([\"Train F1 Score\", \"Test F1 Score\", 'Train Recall', 'Test Recall', 'Train Precision', 'Test Precision']);"
      ],
      "execution_count": 0,
      "outputs": []
    },
    {
      "cell_type": "code",
      "metadata": {
        "id": "9zPv4tAIM13v",
        "colab_type": "code",
        "outputId": "897b5c88-d5dc-452b-aa37-a96e2b942989",
        "colab": {
          "base_uri": "https://localhost:8080/",
          "height": 281
        }
      },
      "source": [
        ""
      ],
      "execution_count": 0,
      "outputs": [
        {
          "output_type": "display_data",
          "data": {
            "image/png": "[encoded data removed]",
            "text/plain": [
              "<Figure size 432x288 with 1 Axes>"
            ]
          },
          "metadata": {
            "tags": []
          }
        }
      ]
    },
    {
      "cell_type": "markdown",
      "metadata": {
        "id": "zlH7F2mh9Dx_",
        "colab_type": "text"
      },
      "source": [
        "#LOAD and Test the saved model"
      ]
    },
    {
      "cell_type": "code",
      "metadata": {
        "id": "0q4hJcIRhjZ6",
        "colab_type": "code",
        "colab": {}
      },
      "source": [
        "from keras.models import load_model\n",
        "def test_model(path):\n",
        "  saved_model = load_model(path, compile=False)\n",
        "  saved_model.compile(optimizer=adamax, loss='categorical_crossentropy', metrics=['acc', recall, precision, f1score])\n",
        "  metrics = saved_model.evaluate(x = x_test_final, y = y_test_np)\n",
        "  return metrics"
      ],
      "execution_count": 0,
      "outputs": []
    },
    {
      "cell_type": "code",
      "metadata": {
        "id": "0gEJo_WOpS9T",
        "colab_type": "code",
        "outputId": "6ef9cd32-5fdf-4ce4-b4e6-5cac21cf638b",
        "colab": {
          "base_uri": "https://localhost:8080/",
          "height": 119
        }
      },
      "source": [
        "\n",
        "model_path = '/content/drive/My Drive/NLP/Sentiment-Analysis-on-the-Rotten-Tomatoes-movie-review-dataset-master/11043771dconv_cal.h5'\n",
        "metrics = test_model(model_path)\n",
        "print('Test Loss:\\t', metrics[0], '\\nTest Accuracy:\\t', metrics[1], '\\nTest Precision:\\t', metrics[2], \n",
        "        '\\nTest Recall:\\t', metrics[3], '\\nTest F-Measure:\\t', metrics[4])"
      ],
      "execution_count": 29,
      "outputs": [
        {
          "output_type": "stream",
          "text": [
            "46818/46818 [==============================] - 15s 324us/step\n",
            "Test Loss:\t 1.0180667709360118 \n",
            "Test Accuracy:\t 0.6237771797172028 \n",
            "Test Precision:\t 0.5823187662864711 \n",
            "Test Recall:\t 0.6464783394829141 \n",
            "Test F-Measure:\t 0.6121659892001264\n"
          ],
          "name": "stdout"
        }
      ]
    },
    {
      "cell_type": "code",
      "metadata": {
        "id": "Ujz6xdyx-m-b",
        "colab_type": "code",
        "colab": {}
      },
      "source": [
        ""
      ],
      "execution_count": 0,
      "outputs": []
    },
    {
      "cell_type": "markdown",
      "metadata": {
        "id": "2bp5Q8YQ8ylb",
        "colab_type": "text"
      },
      "source": [
        "-------\n",
        "Gaussian Naive Bayse Comparison "
      ]
    },
    {
      "cell_type": "code",
      "metadata": {
        "id": "YJg8qVMd7gq7",
        "colab_type": "code",
        "colab": {}
      },
      "source": [
        "from sklearn.naive_bayes import CategoricalNB, BernoulliNB\n"
      ],
      "execution_count": 0,
      "outputs": []
    },
    {
      "cell_type": "code",
      "metadata": {
        "id": "GnTqCaUOHzMG",
        "colab_type": "code",
        "colab": {}
      },
      "source": [
        "bnb = BernoulliNB()\n",
        "bnb_model = bnb.fit(x_train_np, y_train)"
      ],
      "execution_count": 0,
      "outputs": []
    },
    {
      "cell_type": "code",
      "metadata": {
        "id": "ylC3k45B-OEw",
        "colab_type": "code",
        "outputId": "f569dd00-af47-4e5e-a52f-f9aa5570ccb0",
        "colab": {
          "base_uri": "https://localhost:8080/",
          "height": 34
        }
      },
      "source": [
        "bnb_model.score(x_test_np, y_test)"
      ],
      "execution_count": 0,
      "outputs": [
        {
          "output_type": "execute_result",
          "data": {
            "text/plain": [
              "0.5920586099363493"
            ]
          },
          "metadata": {
            "tags": []
          },
          "execution_count": 73
        }
      ]
    },
    {
      "cell_type": "code",
      "metadata": {
        "id": "YNiorMDWIQPa",
        "colab_type": "code",
        "outputId": "05000891-9af7-490d-80ae-f3e725ff2bad",
        "colab": {
          "base_uri": "https://localhost:8080/",
          "height": 34
        }
      },
      "source": [
        "bnb_model.score(x_train_np, y_train)"
      ],
      "execution_count": 0,
      "outputs": [
        {
          "output_type": "execute_result",
          "data": {
            "text/plain": [
              "0.6107449515754014"
            ]
          },
          "metadata": {
            "tags": []
          },
          "execution_count": 74
        }
      ]
    },
    {
      "cell_type": "code",
      "metadata": {
        "id": "TdfCEkyxIYi3",
        "colab_type": "code",
        "colab": {}
      },
      "source": [
        "y_test_pred = bnb_model.predict(x_test_np)"
      ],
      "execution_count": 0,
      "outputs": []
    },
    {
      "cell_type": "code",
      "metadata": {
        "id": "guwDeLfPJMVs",
        "colab_type": "code",
        "outputId": "8b6a2313-50e6-473a-bbc4-20d80a905ee7",
        "colab": {
          "base_uri": "https://localhost:8080/",
          "height": 34
        }
      },
      "source": [
        "np.unique(y_test_pred)"
      ],
      "execution_count": 0,
      "outputs": [
        {
          "output_type": "execute_result",
          "data": {
            "text/plain": [
              "array([0, 1, 2, 3, 4])"
            ]
          },
          "metadata": {
            "tags": []
          },
          "execution_count": 86
        }
      ]
    },
    {
      "cell_type": "code",
      "metadata": {
        "id": "ZIxtKEZqLaQB",
        "colab_type": "code",
        "colab": {}
      },
      "source": [
        ""
      ],
      "execution_count": 0,
      "outputs": []
    }
  ]
}