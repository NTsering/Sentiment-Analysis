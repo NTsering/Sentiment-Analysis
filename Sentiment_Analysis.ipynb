{
  "nbformat": 4,
  "nbformat_minor": 0,
  "metadata": {
    "colab": {
      "name": "Sentiment-Analysis.ipynb",
      "provenance": [],
      "toc_visible": true,
      "authorship_tag": "ABX9TyNfNAJVY2y4Cq6A8woJyDAK",
      "include_colab_link": true
    },
    "kernelspec": {
      "name": "python3",
      "display_name": "Python 3"
    },
    "accelerator": "GPU"
  },
  "cells": [
    {
      "cell_type": "markdown",
      "metadata": {
        "id": "view-in-github",
        "colab_type": "text"
      },
      "source": [
        "<a href=\"https://colab.research.google.com/github/NTsering/Sentiment-Analysis/blob/master/Sentiment_Analysis.ipynb\" target=\"_parent\"><img src=\"https://colab.research.google.com/assets/colab-badge.svg\" alt=\"Open In Colab\"/></a>"
      ]
    },
    {
      "cell_type": "code",
      "metadata": {
        "id": "Mqe07JNd6qAy",
        "colab_type": "code",
        "colab": {
          "base_uri": "https://localhost:8080/",
          "height": 80
        },
        "outputId": "f08b3b24-6794-4441-d586-3bf07e03dfed"
      },
      "source": [
        "import pandas as pd\n",
        "import matplotlib.pyplot as plt\n",
        "import numpy as np\n",
        "from keras.utils import to_categorical\n",
        "from keras import optimizers"
      ],
      "execution_count": 2,
      "outputs": [
        {
          "output_type": "stream",
          "text": [
            "Using TensorFlow backend.\n"
          ],
          "name": "stderr"
        },
        {
          "output_type": "display_data",
          "data": {
            "text/html": [
              "<p style=\"color: red;\">\n",
              "The default version of TensorFlow in Colab will soon switch to TensorFlow 2.x.<br>\n",
              "We recommend you <a href=\"https://www.tensorflow.org/guide/migrate\" target=\"_blank\">upgrade</a> now \n",
              "or ensure your notebook will continue to use TensorFlow 1.x via the <code>%tensorflow_version 1.x</code> magic:\n",
              "<a href=\"https://colab.research.google.com/notebooks/tensorflow_version.ipynb\" target=\"_blank\">more info</a>.</p>\n"
            ],
            "text/plain": [
              "<IPython.core.display.HTML object>"
            ]
          },
          "metadata": {
            "tags": []
          }
        }
      ]
    },
    {
      "cell_type": "code",
      "metadata": {
        "id": "tNX7-6ph6zbQ",
        "colab_type": "code",
        "colab": {}
      },
      "source": [
        "# from google.colab import drive\n",
        "# #Path to dataset: https://raw.githubusercontent.com/cacoderquan/Sentiment-Analysis-on-the-Rotten-Tomatoes-movie-review-dataset/master/train.tsv \n",
        "# drive.mount('/content/drive')"
      ],
      "execution_count": 0,
      "outputs": []
    },
    {
      "cell_type": "code",
      "metadata": {
        "id": "ru7ePlLps85r",
        "colab_type": "code",
        "colab": {
          "base_uri": "https://localhost:8080/",
          "height": 119
        },
        "outputId": "6a16d314-0d24-4f83-856a-cdf927f28fd5"
      },
      "source": [
        "import nltk\n",
        "nltk.download('punkt')\n",
        "nltk.download('stopwords')\n",
        "nltk.download('wordnet')\n",
        "# import random\n",
        "from nltk.corpus import movie_reviews\n",
        "from nltk.corpus import stopwords\n",
        "from nltk.tokenize import word_tokenize\n",
        "from nltk.stem import WordNetLemmatizer, PorterStemmer, LancasterStemmer\n",
        "from sklearn.model_selection import train_test_split\n",
        "from sklearn.feature_extraction.text import TfidfVectorizer\n",
        "from sklearn.feature_extraction.text import CountVectorizer"
      ],
      "execution_count": 3,
      "outputs": [
        {
          "output_type": "stream",
          "text": [
            "[nltk_data] Downloading package punkt to /root/nltk_data...\n",
            "[nltk_data]   Unzipping tokenizers/punkt.zip.\n",
            "[nltk_data] Downloading package stopwords to /root/nltk_data...\n",
            "[nltk_data]   Unzipping corpora/stopwords.zip.\n",
            "[nltk_data] Downloading package wordnet to /root/nltk_data...\n",
            "[nltk_data]   Unzipping corpora/wordnet.zip.\n"
          ],
          "name": "stdout"
        }
      ]
    },
    {
      "cell_type": "code",
      "metadata": {
        "id": "9K0U8PnkQMgF",
        "colab_type": "code",
        "colab": {}
      },
      "source": [
        "def load_dataset(path):\n",
        "  dataset = pd.read_csv(path,sep = '\\t', header = 0)\n",
        "  dataset = dataset.loc[:, 'Phrase':'Sentiment']\n",
        "  return dataset"
      ],
      "execution_count": 0,
      "outputs": []
    },
    {
      "cell_type": "code",
      "metadata": {
        "id": "o99LmcQXare2",
        "colab_type": "code",
        "colab": {}
      },
      "source": [
        "# path = '/content/drive/My Drive/NLP/Sentiment-Analysis-on-the-Rotten-Tomatoes-movie-review-dataset-master/train.tsv'\n",
        "path = \"https://raw.githubusercontent.com/cacoderquan/Sentiment-Analysis-on-the-Rotten-Tomatoes-movie-review-dataset/master/train.tsv\"\n",
        "dataset = load_dataset(path)"
      ],
      "execution_count": 0,
      "outputs": []
    },
    {
      "cell_type": "code",
      "metadata": {
        "id": "2T3gGEI8CEWk",
        "colab_type": "code",
        "outputId": "601952aa-7383-4ce7-ee83-003fa60ea92e",
        "colab": {
          "base_uri": "https://localhost:8080/",
          "height": 204
        }
      },
      "source": [
        "dataset.head()"
      ],
      "execution_count": 6,
      "outputs": [
        {
          "output_type": "execute_result",
          "data": {
            "text/html": [
              "<div>\n",
              "<style scoped>\n",
              "    .dataframe tbody tr th:only-of-type {\n",
              "        vertical-align: middle;\n",
              "    }\n",
              "\n",
              "    .dataframe tbody tr th {\n",
              "        vertical-align: top;\n",
              "    }\n",
              "\n",
              "    .dataframe thead th {\n",
              "        text-align: right;\n",
              "    }\n",
              "</style>\n",
              "<table border=\"1\" class=\"dataframe\">\n",
              "  <thead>\n",
              "    <tr style=\"text-align: right;\">\n",
              "      <th></th>\n",
              "      <th>Phrase</th>\n",
              "      <th>Sentiment</th>\n",
              "    </tr>\n",
              "  </thead>\n",
              "  <tbody>\n",
              "    <tr>\n",
              "      <th>0</th>\n",
              "      <td>A series of escapades demonstrating the adage ...</td>\n",
              "      <td>1</td>\n",
              "    </tr>\n",
              "    <tr>\n",
              "      <th>1</th>\n",
              "      <td>A series of escapades demonstrating the adage ...</td>\n",
              "      <td>2</td>\n",
              "    </tr>\n",
              "    <tr>\n",
              "      <th>2</th>\n",
              "      <td>A series</td>\n",
              "      <td>2</td>\n",
              "    </tr>\n",
              "    <tr>\n",
              "      <th>3</th>\n",
              "      <td>A</td>\n",
              "      <td>2</td>\n",
              "    </tr>\n",
              "    <tr>\n",
              "      <th>4</th>\n",
              "      <td>series</td>\n",
              "      <td>2</td>\n",
              "    </tr>\n",
              "  </tbody>\n",
              "</table>\n",
              "</div>"
            ],
            "text/plain": [
              "                                              Phrase  Sentiment\n",
              "0  A series of escapades demonstrating the adage ...          1\n",
              "1  A series of escapades demonstrating the adage ...          2\n",
              "2                                           A series          2\n",
              "3                                                  A          2\n",
              "4                                             series          2"
            ]
          },
          "metadata": {
            "tags": []
          },
          "execution_count": 6
        }
      ]
    },
    {
      "cell_type": "code",
      "metadata": {
        "id": "81tFPV_VCkle",
        "colab_type": "code",
        "outputId": "f4435cae-f584-4cee-d681-e9c35984a559",
        "colab": {
          "base_uri": "https://localhost:8080/",
          "height": 34
        }
      },
      "source": [
        "dataset.shape"
      ],
      "execution_count": 7,
      "outputs": [
        {
          "output_type": "execute_result",
          "data": {
            "text/plain": [
              "(156060, 2)"
            ]
          },
          "metadata": {
            "tags": []
          },
          "execution_count": 7
        }
      ]
    },
    {
      "cell_type": "code",
      "metadata": {
        "id": "40SqRReCQosl",
        "colab_type": "code",
        "colab": {}
      },
      "source": [
        "def visualize_dataset(dataset):\n",
        "  dataset.hist(bins=20, figsize=(15,5), layout=(1,3))\n",
        "  plt.show()"
      ],
      "execution_count": 0,
      "outputs": []
    },
    {
      "cell_type": "code",
      "metadata": {
        "id": "8C53PYx6RxkX",
        "colab_type": "code",
        "colab": {
          "base_uri": "https://localhost:8080/",
          "height": 336
        },
        "outputId": "27d825f3-219a-4465-9258-ea18d0ea63f0"
      },
      "source": [
        "visualize_dataset(dataset)"
      ],
      "execution_count": 9,
      "outputs": [
        {
          "output_type": "display_data",
          "data": {
            "image/png": "[encoded data removed]",
            "text/plain": [
              "<Figure size 1080x360 with 3 Axes>"
            ]
          },
          "metadata": {
            "tags": []
          }
        }
      ]
    },
    {
      "cell_type": "code",
      "metadata": {
        "id": "Yu2bB9CA7kAO",
        "colab_type": "code",
        "colab": {
          "base_uri": "https://localhost:8080/",
          "height": 71
        },
        "outputId": "c0998a42-6fce-4553-b3c3-f8ea58f1956f"
      },
      "source": [
        "documents = dataset.values.tolist()\n",
        "print('Phrase: ',documents[0][0],'\\nSentiment: ',documents[0][1])"
      ],
      "execution_count": 10,
      "outputs": [
        {
          "output_type": "stream",
          "text": [
            "Phrase:  A series of escapades demonstrating the adage that what is good for the goose is also good for the gander , some of which occasionally amuses but none of which amounts to much of a story . \n",
            "Sentiment:  1\n"
          ],
          "name": "stdout"
        }
      ]
    },
    {
      "cell_type": "code",
      "metadata": {
        "id": "un1L25e3GoAq",
        "colab_type": "code",
        "colab": {
          "base_uri": "https://localhost:8080/",
          "height": 51
        },
        "outputId": "ee71f426-aa7c-4c71-c94c-c04e42264f2c"
      },
      "source": [
        "# print('Type', type(documents))\n",
        "# print(len(documents))"
      ],
      "execution_count": 9,
      "outputs": [
        {
          "output_type": "stream",
          "text": [
            "Type <class 'list'>\n",
            "156060\n"
          ],
          "name": "stdout"
        }
      ]
    },
    {
      "cell_type": "code",
      "metadata": {
        "id": "GDYfT4abMHoH",
        "colab_type": "code",
        "colab": {}
      },
      "source": [
        "def preprocess_dataset(documents):\n",
        "  porter = PorterStemmer()\n",
        "  lancaster = LancasterStemmer()\n",
        "\n",
        "  wordnet_lemmatizer = WordNetLemmatizer()\n",
        "  stop_words = set(stopwords.words('english'))\n",
        "  punctuations = '-\\'?:!.,;\\\"()'\n",
        "\n",
        "  remove_stopwords = True\n",
        "  useStemming = False\n",
        "  useLemma = True\n",
        "  removePuncs = True\n",
        "\n",
        "  for l in range(len(documents)):\n",
        "    label = documents[l][1]\n",
        "    tempReview = []\n",
        "    for w in documents[l][0].split(' '):\n",
        "      newWord = w\n",
        "      if remove_stopwords and (w in stop_words):\n",
        "        continue\n",
        "      if removePuncs and (w in punctuations):\n",
        "        continue\n",
        "      if useStemming:\n",
        "        newWord = porter.stem(newWord)\n",
        "      if useLemma:\n",
        "        newWord = wordnet_lemmatizer.lemmatize(newWord)\n",
        "      tempReview.append(newWord)\n",
        "\n",
        "      documents[l] = (' '.join(tempReview), label)\n",
        "  return documents"
      ],
      "execution_count": 0,
      "outputs": []
    },
    {
      "cell_type": "code",
      "metadata": {
        "id": "9MZ1C7AoSB9e",
        "colab_type": "code",
        "colab": {}
      },
      "source": [
        "documents = preprocess_dataset(documents)\n",
        "# print(documents[200:210])"
      ],
      "execution_count": 0,
      "outputs": []
    },
    {
      "cell_type": "code",
      "metadata": {
        "id": "xyVXKQfGFZAY",
        "colab_type": "code",
        "colab": {}
      },
      "source": [
        "vectorizer = TfidfVectorizer(stop_words = 'english', ngram_range= (1,1))\n",
        "all_data = pd.DataFrame(documents, columns=['Phrase', 'Sentiment'])"
      ],
      "execution_count": 0,
      "outputs": []
    },
    {
      "cell_type": "code",
      "metadata": {
        "id": "xXLmx9agGCe5",
        "colab_type": "code",
        "colab": {}
      },
      "source": [
        "X = vectorizer.fit_transform(all_data['Phrase'])\n",
        "x_train, x_test, y_train, y_test = train_test_split(all_data['Phrase'], all_data['Sentiment'], train_size = 0.7, shuffle = True, random_state = 2003, stratify = all_data['Sentiment'])"
      ],
      "execution_count": 0,
      "outputs": []
    },
    {
      "cell_type": "code",
      "metadata": {
        "id": "DLxp4OW0Gkkd",
        "colab_type": "code",
        "colab": {
          "base_uri": "https://localhost:8080/",
          "height": 34
        },
        "outputId": "fc3d5233-c5c3-43cd-8485-cc8835fe2791"
      },
      "source": [
        "print(x_train.shape, x_test.shape)"
      ],
      "execution_count": 17,
      "outputs": [
        {
          "output_type": "stream",
          "text": [
            "(109242,) (46818,)\n"
          ],
          "name": "stdout"
        }
      ]
    },
    {
      "cell_type": "code",
      "metadata": {
        "id": "biZuDLLgHCzq",
        "colab_type": "code",
        "colab": {}
      },
      "source": [
        "X = vectorizer.fit_transform(all_data['Phrase'])\n",
        "x_train = vectorizer.transform(x_train)\n",
        "x_test = vectorizer.transform(x_test)"
      ],
      "execution_count": 0,
      "outputs": []
    },
    {
      "cell_type": "code",
      "metadata": {
        "id": "_lp_g-rIHJUZ",
        "colab_type": "code",
        "colab": {
          "base_uri": "https://localhost:8080/",
          "height": 34
        },
        "outputId": "ddb41e5f-d62a-4a4b-d8b9-79da958e7e28"
      },
      "source": [
        "print(X.shape, x_train.shape, x_test.shape)"
      ],
      "execution_count": 19,
      "outputs": [
        {
          "output_type": "stream",
          "text": [
            "(156060, 10773) (109242, 10773) (46818, 10773)\n"
          ],
          "name": "stdout"
        }
      ]
    },
    {
      "cell_type": "code",
      "metadata": {
        "id": "QqWfqJUwHX2V",
        "colab_type": "code",
        "colab": {}
      },
      "source": [
        "from sklearn.decomposition import TruncatedSVD\n",
        "svd = TruncatedSVD(n_components=1000, n_iter=16, random_state=42)\n",
        "X_reduced = svd.fit_transform(X)"
      ],
      "execution_count": 0,
      "outputs": []
    },
    {
      "cell_type": "code",
      "metadata": {
        "id": "awLINVW-JZtG",
        "colab_type": "code",
        "colab": {
          "base_uri": "https://localhost:8080/",
          "height": 34
        },
        "outputId": "f74f4cd0-82a7-435f-b091-4cd365db1f59"
      },
      "source": [
        "X_reduced.shape"
      ],
      "execution_count": 21,
      "outputs": [
        {
          "output_type": "execute_result",
          "data": {
            "text/plain": [
              "(156060, 1000)"
            ]
          },
          "metadata": {
            "tags": []
          },
          "execution_count": 21
        }
      ]
    },
    {
      "cell_type": "code",
      "metadata": {
        "id": "3DjPw9usKTDV",
        "colab_type": "code",
        "colab": {}
      },
      "source": [
        "x_train, x_test, y_train, y_test = train_test_split(X_reduced, all_data['Sentiment'], train_size = 0.7, shuffle = True, random_state = 2003, stratify = all_data['Sentiment'])"
      ],
      "execution_count": 0,
      "outputs": []
    },
    {
      "cell_type": "code",
      "metadata": {
        "id": "YlvRehRdKfWG",
        "colab_type": "code",
        "colab": {
          "base_uri": "https://localhost:8080/",
          "height": 34
        },
        "outputId": "b1e17a6d-4158-4778-fae5-aca7beb464a8"
      },
      "source": [
        "print(x_train.shape, y_train.shape)"
      ],
      "execution_count": 23,
      "outputs": [
        {
          "output_type": "stream",
          "text": [
            "(109242, 1000) (109242,)\n"
          ],
          "name": "stdout"
        }
      ]
    },
    {
      "cell_type": "code",
      "metadata": {
        "id": "elxsGHnJKvT3",
        "colab_type": "code",
        "colab": {}
      },
      "source": [
        "y_train_np = to_categorical(y_train)\n",
        "y_test_np = to_categorical(y_test)"
      ],
      "execution_count": 0,
      "outputs": []
    },
    {
      "cell_type": "markdown",
      "metadata": {
        "id": "WBrgTuE7HEG2",
        "colab_type": "text"
      },
      "source": [
        "Differrence "
      ]
    },
    {
      "cell_type": "code",
      "metadata": {
        "id": "dcjy-l58IboE",
        "colab_type": "code",
        "colab": {
          "base_uri": "https://localhost:8080/",
          "height": 34
        },
        "outputId": "3ce8b7b7-d5a9-4485-e6e0-cc8b4776c2fb"
      },
      "source": [
        "all_data.shape\n",
        "# vectorizer = TfidfVectorizer(stop_words = 'english', ngram_range= (1,1), max_features=5000)"
      ],
      "execution_count": 15,
      "outputs": [
        {
          "output_type": "execute_result",
          "data": {
            "text/plain": [
              "(156060, 2)"
            ]
          },
          "metadata": {
            "tags": []
          },
          "execution_count": 15
        }
      ]
    },
    {
      "cell_type": "code",
      "metadata": {
        "id": "cuJ8e5MCOpBF",
        "colab_type": "code",
        "colab": {}
      },
      "source": [
        "# vectorizer = TfidfVectorizer(stop_words = 'english', ngram_range= (1,1), max_features=5000)\n",
        "all_data = pd.DataFrame(documents, columns=['Phrase', 'Sentiment'])\n",
        "x_train, x_test, y_train, y_test = train_test_split(all_data['Phrase'], all_data['Sentiment'], train_size = 0.7, shuffle = True, random_state = 2003, stratify = all_data['Sentiment'])"
      ],
      "execution_count": 0,
      "outputs": []
    },
    {
      "cell_type": "code",
      "metadata": {
        "id": "VQwZUSB6S6H5",
        "colab_type": "code",
        "colab": {}
      },
      "source": [
        "X = vectorizer.fit_transform(all_data['Phrase'])\n",
        "x_train = vectorizer.transform(x_train)\n",
        "x_test = vectorizer.transform(x_test)"
      ],
      "execution_count": 0,
      "outputs": []
    },
    {
      "cell_type": "code",
      "metadata": {
        "id": "KrmEgSwnUBQX",
        "colab_type": "code",
        "colab": {
          "base_uri": "https://localhost:8080/",
          "height": 34
        },
        "outputId": "43b9a959-816e-4290-8f4f-88a2a89b921c"
      },
      "source": [
        "print(x_train.shape, x_test.shape)"
      ],
      "execution_count": 17,
      "outputs": [
        {
          "output_type": "stream",
          "text": [
            "(109242, 5000) (46818, 5000)\n"
          ],
          "name": "stdout"
        }
      ]
    },
    {
      "cell_type": "code",
      "metadata": {
        "id": "-nWYXs9bUc1m",
        "colab_type": "code",
        "colab": {}
      },
      "source": [
        "x_train_np = x_train.toarray()\n",
        "y_train_np = to_categorical(y_train)\n",
        "\n",
        "x_test_np = x_test.toarray()\n",
        "y_test_np = to_categorical(y_test)"
      ],
      "execution_count": 0,
      "outputs": []
    },
    {
      "cell_type": "markdown",
      "metadata": {
        "id": "uNZlhrR1K0jK",
        "colab_type": "text"
      },
      "source": [
        "Difference"
      ]
    },
    {
      "cell_type": "code",
      "metadata": {
        "id": "OFPHxML6K0NH",
        "colab_type": "code",
        "colab": {}
      },
      "source": [
        ""
      ],
      "execution_count": 0,
      "outputs": []
    },
    {
      "cell_type": "code",
      "metadata": {
        "id": "HQybB0Hxvx5d",
        "colab_type": "code",
        "colab": {}
      },
      "source": [
        "x_train_final = np.expand_dims(x_train, axis=2)\n",
        "x_test_final = np.expand_dims(x_test, axis=2)"
      ],
      "execution_count": 0,
      "outputs": []
    },
    {
      "cell_type": "code",
      "metadata": {
        "id": "X99iaPvOUk34",
        "colab_type": "code",
        "colab": {
          "base_uri": "https://localhost:8080/",
          "height": 34
        },
        "outputId": "d832342e-8373-4753-ee01-2ae7a8f63afc"
      },
      "source": [
        "print(x_train.shape, y_train.shape, x_test.shape, y_test.shape)"
      ],
      "execution_count": 26,
      "outputs": [
        {
          "output_type": "stream",
          "text": [
            "(109242, 1000) (109242,) (46818, 1000) (46818,)\n"
          ],
          "name": "stdout"
        }
      ]
    },
    {
      "cell_type": "code",
      "metadata": {
        "id": "IXA_YbozZL05",
        "colab_type": "code",
        "colab": {
          "base_uri": "https://localhost:8080/",
          "height": 207
        },
        "outputId": "2391737f-63de-4c9e-95c1-892c301ae881"
      },
      "source": [
        "from keras.models import Sequential\n",
        "from keras.layers import Dense, Conv1D, Flatten, MaxPooling1D, AveragePooling1D\n",
        "\n",
        "model = Sequential()\n",
        "model.add(Conv1D(filters = 128, kernel_size=1, activation='relu', input_shape=(x_train.shape[1],1)))\n",
        "model.add(Conv1D(filters = 128, kernel_size=1, activation='relu'))\n",
        "model.add(MaxPooling1D(pool_size = 2))\n",
        "model.add(Conv1D(filters = 128, kernel_size=1, activation='relu'))\n",
        "model.add(AveragePooling1D(pool_size = 2))\n",
        "model.add(Flatten())\n",
        "model.add(Dense(100, activation='relu'))\n",
        "model.add(Dense(5, activation='softmax'))"
      ],
      "execution_count": 27,
      "outputs": [
        {
          "output_type": "stream",
          "text": [
            "WARNING:tensorflow:From /usr/local/lib/python3.6/dist-packages/keras/backend/tensorflow_backend.py:66: The name tf.get_default_graph is deprecated. Please use tf.compat.v1.get_default_graph instead.\n",
            "\n",
            "WARNING:tensorflow:From /usr/local/lib/python3.6/dist-packages/keras/backend/tensorflow_backend.py:541: The name tf.placeholder is deprecated. Please use tf.compat.v1.placeholder instead.\n",
            "\n",
            "WARNING:tensorflow:From /usr/local/lib/python3.6/dist-packages/keras/backend/tensorflow_backend.py:4432: The name tf.random_uniform is deprecated. Please use tf.random.uniform instead.\n",
            "\n",
            "WARNING:tensorflow:From /usr/local/lib/python3.6/dist-packages/keras/backend/tensorflow_backend.py:4267: The name tf.nn.max_pool is deprecated. Please use tf.nn.max_pool2d instead.\n",
            "\n",
            "WARNING:tensorflow:From /usr/local/lib/python3.6/dist-packages/keras/backend/tensorflow_backend.py:4271: The name tf.nn.avg_pool is deprecated. Please use tf.nn.avg_pool2d instead.\n",
            "\n"
          ],
          "name": "stdout"
        }
      ]
    },
    {
      "cell_type": "code",
      "metadata": {
        "id": "pLv09IX3aFgx",
        "colab_type": "code",
        "colab": {
          "base_uri": "https://localhost:8080/",
          "height": 425
        },
        "outputId": "0a617949-e334-4ac5-d1b8-38015007048b"
      },
      "source": [
        "model.summary()"
      ],
      "execution_count": 28,
      "outputs": [
        {
          "output_type": "stream",
          "text": [
            "Model: \"sequential_1\"\n",
            "_________________________________________________________________\n",
            "Layer (type)                 Output Shape              Param #   \n",
            "=================================================================\n",
            "conv1d_1 (Conv1D)            (None, 1000, 128)         256       \n",
            "_________________________________________________________________\n",
            "conv1d_2 (Conv1D)            (None, 1000, 128)         16512     \n",
            "_________________________________________________________________\n",
            "max_pooling1d_1 (MaxPooling1 (None, 500, 128)          0         \n",
            "_________________________________________________________________\n",
            "conv1d_3 (Conv1D)            (None, 500, 128)          16512     \n",
            "_________________________________________________________________\n",
            "average_pooling1d_1 (Average (None, 250, 128)          0         \n",
            "_________________________________________________________________\n",
            "flatten_1 (Flatten)          (None, 32000)             0         \n",
            "_________________________________________________________________\n",
            "dense_1 (Dense)              (None, 100)               3200100   \n",
            "_________________________________________________________________\n",
            "dense_2 (Dense)              (None, 5)                 505       \n",
            "=================================================================\n",
            "Total params: 3,233,885\n",
            "Trainable params: 3,233,885\n",
            "Non-trainable params: 0\n",
            "_________________________________________________________________\n"
          ],
          "name": "stdout"
        }
      ]
    },
    {
      "cell_type": "code",
      "metadata": {
        "id": "v0D-VzbIaRfy",
        "colab_type": "code",
        "colab": {
          "base_uri": "https://localhost:8080/",
          "height": 105
        },
        "outputId": "5d90eecf-7e9b-45ef-84aa-ab4ffe4fb041"
      },
      "source": [
        "from keras import backend as K\n",
        "\n",
        "def recall(y_true, y_pred):\n",
        "    true_positives = K.sum(K.round(K.clip(y_true * y_pred, 0, 1)))\n",
        "    possible_positives = K.sum(K.round(K.clip(y_true, 0, 1)))\n",
        "    recall = true_positives / (possible_positives + K.epsilon())\n",
        "    return recall\n",
        "\n",
        "def precision(y_true, y_pred):\n",
        "    true_positives = K.sum(K.round(K.clip(y_true * y_pred, 0, 1)))\n",
        "    predicted_positives = K.sum(K.round(K.clip(y_pred, 0, 1)))\n",
        "    precision = true_positives / (predicted_positives + K.epsilon())\n",
        "    return precision\n",
        "    \n",
        "epochs = 30\n",
        "# rms = optimizers.RMSprop(lr=0.001, rho=0.9)\n",
        "# nadam = optimizers.Nadam(lr = 0.01, beta_1=0.9, beta_2=0.999)\n",
        "adamax = optimizers.Adamax(lr = 0.01, beta_1=0.9, beta_2=0.999, decay = 0.001)\n",
        "# adam = optimizers.Adam(lr = 0.01, beta_1=0.9, beta_2=0.999, amsgrad=True, decay = 0.001 )\n",
        "model.compile(optimizer=adamax, loss='categorical_crossentropy', metrics=['acc'])"
      ],
      "execution_count": 29,
      "outputs": [
        {
          "output_type": "stream",
          "text": [
            "WARNING:tensorflow:From /usr/local/lib/python3.6/dist-packages/keras/optimizers.py:793: The name tf.train.Optimizer is deprecated. Please use tf.compat.v1.train.Optimizer instead.\n",
            "\n",
            "WARNING:tensorflow:From /usr/local/lib/python3.6/dist-packages/keras/backend/tensorflow_backend.py:3576: The name tf.log is deprecated. Please use tf.math.log instead.\n",
            "\n"
          ],
          "name": "stdout"
        }
      ]
    },
    {
      "cell_type": "code",
      "metadata": {
        "id": "Q0Y96HPRvGSO",
        "colab_type": "code",
        "colab": {
          "base_uri": "https://localhost:8080/",
          "height": 1000
        },
        "outputId": "80497070-f319-4eb8-9295-7f73a58da72e"
      },
      "source": [
        "# history = model.fit(x_train_final, y_train_np, validation_data=(x_test_final, y_test_np), epochs= epochs, batch_size = 128)\n",
        "history = model.fit(x_train_final, y_train_np, epochs= epochs, batch_size = 128)"
      ],
      "execution_count": 30,
      "outputs": [
        {
          "output_type": "stream",
          "text": [
            "WARNING:tensorflow:From /tensorflow-1.15.0/python3.6/tensorflow_core/python/ops/math_grad.py:1424: where (from tensorflow.python.ops.array_ops) is deprecated and will be removed in a future version.\n",
            "Instructions for updating:\n",
            "Use tf.where in 2.0, which has the same broadcast rule as np.where\n",
            "WARNING:tensorflow:From /usr/local/lib/python3.6/dist-packages/keras/backend/tensorflow_backend.py:1033: The name tf.assign_add is deprecated. Please use tf.compat.v1.assign_add instead.\n",
            "\n",
            "WARNING:tensorflow:From /usr/local/lib/python3.6/dist-packages/keras/backend/tensorflow_backend.py:1020: The name tf.assign is deprecated. Please use tf.compat.v1.assign instead.\n",
            "\n",
            "WARNING:tensorflow:From /usr/local/lib/python3.6/dist-packages/keras/backend/tensorflow_backend.py:3005: The name tf.Session is deprecated. Please use tf.compat.v1.Session instead.\n",
            "\n",
            "Train on 109242 samples, validate on 46818 samples\n",
            "Epoch 1/30\n",
            "WARNING:tensorflow:From /usr/local/lib/python3.6/dist-packages/keras/backend/tensorflow_backend.py:190: The name tf.get_default_session is deprecated. Please use tf.compat.v1.get_default_session instead.\n",
            "\n",
            "WARNING:tensorflow:From /usr/local/lib/python3.6/dist-packages/keras/backend/tensorflow_backend.py:197: The name tf.ConfigProto is deprecated. Please use tf.compat.v1.ConfigProto instead.\n",
            "\n",
            "WARNING:tensorflow:From /usr/local/lib/python3.6/dist-packages/keras/backend/tensorflow_backend.py:207: The name tf.global_variables is deprecated. Please use tf.compat.v1.global_variables instead.\n",
            "\n",
            "WARNING:tensorflow:From /usr/local/lib/python3.6/dist-packages/keras/backend/tensorflow_backend.py:216: The name tf.is_variable_initialized is deprecated. Please use tf.compat.v1.is_variable_initialized instead.\n",
            "\n",
            "WARNING:tensorflow:From /usr/local/lib/python3.6/dist-packages/keras/backend/tensorflow_backend.py:223: The name tf.variables_initializer is deprecated. Please use tf.compat.v1.variables_initializer instead.\n",
            "\n",
            "109242/109242 [==============================] - 57s 526us/step - loss: 1.1884 - acc: 0.5294 - val_loss: 1.1234 - val_acc: 0.5516\n",
            "Epoch 2/30\n",
            "109242/109242 [==============================] - 44s 406us/step - loss: 1.0895 - acc: 0.5663 - val_loss: 1.0775 - val_acc: 0.5702\n",
            "Epoch 3/30\n",
            "109242/109242 [==============================] - 45s 407us/step - loss: 1.0416 - acc: 0.5865 - val_loss: 1.0481 - val_acc: 0.5836\n",
            "Epoch 4/30\n",
            "109242/109242 [==============================] - 45s 408us/step - loss: 1.0051 - acc: 0.6022 - val_loss: 1.0446 - val_acc: 0.5882\n",
            "Epoch 5/30\n",
            "109242/109242 [==============================] - 44s 407us/step - loss: 0.9774 - acc: 0.6138 - val_loss: 1.0253 - val_acc: 0.5933\n",
            "Epoch 6/30\n",
            "109242/109242 [==============================] - 44s 407us/step - loss: 0.9517 - acc: 0.6261 - val_loss: 1.0136 - val_acc: 0.5983\n",
            "Epoch 7/30\n",
            "109242/109242 [==============================] - 44s 406us/step - loss: 0.9314 - acc: 0.6345 - val_loss: 1.0123 - val_acc: 0.6009\n",
            "Epoch 8/30\n",
            "109242/109242 [==============================] - 44s 406us/step - loss: 0.9129 - acc: 0.6413 - val_loss: 1.0097 - val_acc: 0.5986\n",
            "Epoch 9/30\n",
            "109242/109242 [==============================] - 44s 406us/step - loss: 0.8966 - acc: 0.6488 - val_loss: 1.0061 - val_acc: 0.6031\n",
            "Epoch 10/30\n",
            "109242/109242 [==============================] - 44s 406us/step - loss: 0.8820 - acc: 0.6530 - val_loss: 1.0057 - val_acc: 0.6072\n",
            "Epoch 11/30\n",
            "109242/109242 [==============================] - 44s 406us/step - loss: 0.8693 - acc: 0.6588 - val_loss: 1.0035 - val_acc: 0.6066\n",
            "Epoch 12/30\n",
            "109242/109242 [==============================] - 44s 406us/step - loss: 0.8577 - acc: 0.6638 - val_loss: 1.0047 - val_acc: 0.6083\n",
            "Epoch 13/30\n",
            "109242/109242 [==============================] - 44s 407us/step - loss: 0.8472 - acc: 0.6676 - val_loss: 1.0055 - val_acc: 0.6095\n",
            "Epoch 14/30\n",
            "109242/109242 [==============================] - 44s 407us/step - loss: 0.8376 - acc: 0.6721 - val_loss: 1.0023 - val_acc: 0.6090\n",
            "Epoch 15/30\n",
            "109242/109242 [==============================] - 44s 406us/step - loss: 0.8281 - acc: 0.6757 - val_loss: 1.0037 - val_acc: 0.6092\n",
            "Epoch 16/30\n",
            "109242/109242 [==============================] - 44s 406us/step - loss: 0.8198 - acc: 0.6789 - val_loss: 1.0040 - val_acc: 0.6107\n",
            "Epoch 17/30\n",
            "109242/109242 [==============================] - 44s 406us/step - loss: 0.8117 - acc: 0.6818 - val_loss: 1.0111 - val_acc: 0.6121\n",
            "Epoch 18/30\n",
            "109242/109242 [==============================] - 44s 407us/step - loss: 0.8042 - acc: 0.6851 - val_loss: 1.0082 - val_acc: 0.6112\n",
            "Epoch 19/30\n",
            "109242/109242 [==============================] - 44s 407us/step - loss: 0.7975 - acc: 0.6874 - val_loss: 1.0142 - val_acc: 0.6119\n",
            "Epoch 20/30\n",
            "109242/109242 [==============================] - 44s 406us/step - loss: 0.7901 - acc: 0.6911 - val_loss: 1.0111 - val_acc: 0.6118\n",
            "Epoch 21/30\n",
            "109242/109242 [==============================] - 44s 407us/step - loss: 0.7836 - acc: 0.6924 - val_loss: 1.0138 - val_acc: 0.6139\n",
            "Epoch 22/30\n",
            "109242/109242 [==============================] - 44s 406us/step - loss: 0.7774 - acc: 0.6950 - val_loss: 1.0174 - val_acc: 0.6122\n",
            "Epoch 23/30\n",
            "109242/109242 [==============================] - 44s 406us/step - loss: 0.7706 - acc: 0.6970 - val_loss: 1.0163 - val_acc: 0.6152\n",
            "Epoch 24/30\n",
            "109242/109242 [==============================] - 44s 406us/step - loss: 0.7650 - acc: 0.6994 - val_loss: 1.0280 - val_acc: 0.6093\n",
            "Epoch 25/30\n",
            "109242/109242 [==============================] - 44s 406us/step - loss: 0.7587 - acc: 0.7022 - val_loss: 1.0244 - val_acc: 0.6157\n",
            "Epoch 26/30\n",
            "109242/109242 [==============================] - 44s 407us/step - loss: 0.7532 - acc: 0.7045 - val_loss: 1.0262 - val_acc: 0.6104\n",
            "Epoch 27/30\n",
            "109242/109242 [==============================] - 44s 407us/step - loss: 0.7471 - acc: 0.7062 - val_loss: 1.0293 - val_acc: 0.6140\n",
            "Epoch 28/30\n",
            "109242/109242 [==============================] - 44s 406us/step - loss: 0.7424 - acc: 0.7092 - val_loss: 1.0312 - val_acc: 0.6165\n",
            "Epoch 29/30\n",
            "109242/109242 [==============================] - 44s 407us/step - loss: 0.7373 - acc: 0.7103 - val_loss: 1.0316 - val_acc: 0.6173\n",
            "Epoch 30/30\n",
            "109242/109242 [==============================] - 44s 406us/step - loss: 0.7320 - acc: 0.7125 - val_loss: 1.0353 - val_acc: 0.6117\n"
          ],
          "name": "stdout"
        }
      ]
    },
    {
      "cell_type": "code",
      "metadata": {
        "id": "v4F9QhNQJrbg",
        "colab_type": "code",
        "colab": {
          "base_uri": "https://localhost:8080/",
          "height": 51
        },
        "outputId": "0dc18eaa-737d-4b2e-9d68-4227078c05e7"
      },
      "source": [
        "print('Avg Accuracy:\\t', (np.mean(history.history['acc'])))\n",
        "print('Avg Loss:\\t', np.mean(history.history['loss']))"
      ],
      "execution_count": 56,
      "outputs": [
        {
          "output_type": "stream",
          "text": [
            "Avg Accuracy:\t 0.6630926444645568\n",
            "Avg Loss:\t 0.8568989948582314\n"
          ],
          "name": "stdout"
        }
      ]
    },
    {
      "cell_type": "code",
      "metadata": {
        "id": "_QQz0ys1vcSV",
        "colab_type": "code",
        "colab": {
          "base_uri": "https://localhost:8080/",
          "height": 562
        },
        "outputId": "40b22a1c-e1b0-4f70-964f-2ceb91b25f96"
      },
      "source": [
        "history_df = pd.DataFrame(history.history)\n",
        "ax = history_df[['loss', 'val_loss']].plot(title = \"Loss\")\n",
        "ax.legend([\"Train\", \"Test\"]);\n",
        "ax = history_df[['acc', 'val_acc']].plot(title = \"Accuracy\")\n",
        "ax.legend(['Train', 'Test'])"
      ],
      "execution_count": 31,
      "outputs": [
        {
          "output_type": "execute_result",
          "data": {
            "text/plain": [
              "<matplotlib.legend.Legend at 0x7f9a7fca9b70>"
            ]
          },
          "metadata": {
            "tags": []
          },
          "execution_count": 31
        },
        {
          "output_type": "display_data",
          "data": {
            "image/png": "[encoded data removed]",
            "text/plain": [
              "<Figure size 432x288 with 1 Axes>"
            ]
          },
          "metadata": {
            "tags": []
          }
        },
        {
          "output_type": "display_data",
          "data": {
            "image/png": "[encoded data removed]",
            "text/plain": [
              "<Figure size 432x288 with 1 Axes>"
            ]
          },
          "metadata": {
            "tags": []
          }
        }
      ]
    },
    {
      "cell_type": "code",
      "metadata": {
        "id": "aZwl_Qcx_SEU",
        "colab_type": "code",
        "colab": {
          "base_uri": "https://localhost:8080/",
          "height": 34
        },
        "outputId": "04c79e06-f0ab-46a2-8a04-02cf9b143354"
      },
      "source": [
        "print(history)"
      ],
      "execution_count": 32,
      "outputs": [
        {
          "output_type": "stream",
          "text": [
            "<keras.callbacks.History object at 0x7f9a7fe95da0>\n"
          ],
          "name": "stdout"
        }
      ]
    },
    {
      "cell_type": "code",
      "metadata": {
        "id": "a3HR_F6JIJW5",
        "colab_type": "code",
        "colab": {
          "base_uri": "https://localhost:8080/",
          "height": 34
        },
        "outputId": "2547ddd0-32d1-4653-8f7a-de8f03a384a4"
      },
      "source": [
        "matrices = model.evaluate(x = x_test_final, y = y_test_np)"
      ],
      "execution_count": 46,
      "outputs": [
        {
          "output_type": "stream",
          "text": [
            "46818/46818 [==============================] - 8s 172us/step\n"
          ],
          "name": "stdout"
        }
      ]
    },
    {
      "cell_type": "code",
      "metadata": {
        "id": "Ion-MsHpMkOF",
        "colab_type": "code",
        "colab": {
          "base_uri": "https://localhost:8080/",
          "height": 51
        },
        "outputId": "4829a694-24ce-4508-d1f9-27d70173f4be"
      },
      "source": [
        "print('Test Loss:\\t', matrices[0], '\\nTest Accuracy:\\t', matrices[1])"
      ],
      "execution_count": 57,
      "outputs": [
        {
          "output_type": "stream",
          "text": [
            "Test Loss:\t 1.0352985733795605 \n",
            "Test Accuracy:\t 0.6116878123798539\n"
          ],
          "name": "stdout"
        }
      ]
    },
    {
      "cell_type": "code",
      "metadata": {
        "id": "JYJqsGeENJA-",
        "colab_type": "code",
        "colab": {}
      },
      "source": [
        "model.save('11043771dconv_cal.h5')"
      ],
      "execution_count": 0,
      "outputs": []
    },
    {
      "cell_type": "code",
      "metadata": {
        "id": "BvpQfSRcXPSH",
        "colab_type": "code",
        "colab": {}
      },
      "source": [
        ""
      ],
      "execution_count": 0,
      "outputs": []
    }
  ]
}